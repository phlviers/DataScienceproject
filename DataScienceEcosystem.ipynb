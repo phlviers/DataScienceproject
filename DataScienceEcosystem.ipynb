{
 "cells": [
  {
   "cell_type": "markdown",
   "id": "26923fe2-8265-4320-86b3-760b1890c983",
   "metadata": {},
   "source": [
    "# Data Science Tools and Ecosystem"
   ]
  },
  {
   "cell_type": "markdown",
   "id": "d7679e56-c66f-446e-aba2-3aff4b6b8455",
   "metadata": {},
   "source": [
    "In this notebook, Data science tools and ecosystems are summerized."
   ]
  },
  {
   "cell_type": "markdown",
   "id": "ac530cfe-2ad2-4cf7-b674-f6a9de0f7e34",
   "metadata": {},
   "source": [
    "### Objectives:\n",
    "    * Introduction to Python\n",
    "    * Commonly used libraries\n",
    "    * Data Science Tools Such as R Studio and Jupytr\n",
    "    * Examples of arithmetic expression in python."
   ]
  },
  {
   "cell_type": "markdown",
   "id": "7d6395d1-0a94-4bde-9db3-7716f437e786",
   "metadata": {},
   "source": [
    "#### Some of the popular languages Data Scientists use are:\n",
    "1. Python\n",
    "2. R\n",
    "3. Java\n",
    "4. SQL\n",
    "5. Scala"
   ]
  },
  {
   "cell_type": "markdown",
   "id": "0d26ac8c-3faa-4590-9b78-82b10fd3f862",
   "metadata": {},
   "source": [
    "#### Some of the commonly used libraries used by Data Scientists include:\n",
    "1. Numpy\n",
    "2. Pandas\n",
    "3. TensorFlow\n",
    "4. Keras\n",
    "5. Matplotlib"
   ]
  },
  {
   "cell_type": "markdown",
   "id": "15436bfb-59f9-493d-8666-96d8a04b4580",
   "metadata": {},
   "source": [
    "Data Science Tools\n",
    "---------------------\n",
    "|Project Jupyter | TensorFlow | R Studio|\n",
    "|:---------------|:----------:|--------:| "
   ]
  },
  {
   "cell_type": "markdown",
   "id": "f872848a-cc79-48ed-b967-323d4dcb6ea3",
   "metadata": {},
   "source": [
    "### Below are a few examples of evaluating arithmetic expressions in Python."
   ]
  },
  {
   "cell_type": "code",
   "execution_count": 39,
   "id": "70ab9472-e511-4cc4-bd27-e24a9d9ba60e",
   "metadata": {},
   "outputs": [
    {
     "data": {
      "text/plain": [
       "('THis a simple arithmetic expression to multiply then add integers', 17)"
      ]
     },
     "execution_count": 39,
     "metadata": {},
     "output_type": "execute_result"
    }
   ],
   "source": [
    "\"THis a simple arithmetic expression to multiply then add integers\", (3*4)+5"
   ]
  },
  {
   "cell_type": "code",
   "execution_count": 1,
   "id": "225e2caf-180a-41db-b33e-3625ab18cb99",
   "metadata": {},
   "outputs": [
    {
     "name": "stdout",
     "output_type": "stream",
     "text": [
      "3.3333333333333335\n"
     ]
    }
   ],
   "source": [
    "\"This will convert 200 minutes into hours at a speed of 60\",\n",
    "def minutes_to_hours(minutes):\n",
    "    return minutes / 60\n",
    "\n",
    "minutes = 200\n",
    "hours = minutes_to_hours(minutes)\n",
    "print (hours)\n"
   ]
  },
  {
   "cell_type": "markdown",
   "id": "158405b5-b001-4410-82ac-1e34f7f06c6e",
   "metadata": {},
   "source": [
    "## Author\n",
    "Phillip VIers"
   ]
  },
  {
   "cell_type": "code",
   "execution_count": null,
   "id": "685985d9-a7eb-461d-897c-ea73ebeca3d2",
   "metadata": {},
   "outputs": [],
   "source": []
  }
 ],
 "metadata": {
  "kernelspec": {
   "display_name": "Python 3 (ipykernel)",
   "language": "python",
   "name": "python3"
  },
  "language_info": {
   "codemirror_mode": {
    "name": "ipython",
    "version": 3
   },
   "file_extension": ".py",
   "mimetype": "text/x-python",
   "name": "python",
   "nbconvert_exporter": "python",
   "pygments_lexer": "ipython3",
   "version": "3.12.4"
  }
 },
 "nbformat": 4,
 "nbformat_minor": 5
}
